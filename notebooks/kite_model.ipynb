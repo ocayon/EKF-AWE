{
 "cells": [
  {
   "cell_type": "code",
   "execution_count": 8,
   "metadata": {},
   "outputs": [
    {
     "name": "stdout",
     "output_type": "stream",
     "text": [
      "0.8972196578979492\n"
     ]
    }
   ],
   "source": [
    "from awes_ekf.setup.kite import PointMass, KiteInput\n",
    "from awes_ekf.setup.kcu import KCU\n",
    "from awes_ekf.setup.settings import ObservationData\n",
    "import numpy as np\n",
    "from awes_ekf.setup.settings import load_config, SimulationConfig\n",
    "\n",
    "kite_dict = {\n",
    "    'model_name': 'kite',\n",
    "    'mass': 1.0,\n",
    "    'area': 400.0,\n",
    "    'span': 1.0,\n",
    "}\n",
    "\n",
    "tether_dict = {\n",
    "    'material_name': 'Dyneema-SK78',\n",
    "    'diameter': 0.056,\n",
    "    'n_elements': 30,\n",
    "}\n",
    "\n",
    "kcu_dict = {\n",
    "    'length': 1,\n",
    "    'diameter': 0.48,\n",
    "    'mass': 27.6,\n",
    "    'distance_kcu_kite': 11.5,\n",
    "    'total_length_bridle_lines': 96,\n",
    "    'diameter_bridle_lines': 0.0025,\n",
    "}\n",
    "\n",
    "config_file_name = \"v9_config.yaml\"\n",
    "config_data = load_config(\"../examples/\"+config_file_name)\n",
    "simConfig = SimulationConfig(**config_data[\"simulation_parameters\"])\n",
    "kite = PointMass(simConfig,**kite_dict)\n",
    "kcu = KCU(**kcu_dict)\n",
    "\n",
    "\n",
    "kite_input = KiteInput(\n",
    "    wind_velocity=np.array([5.0, 0.0, 0.0]),\n",
    "    up = 1,\n",
    "    us = 0.5,\n",
    "    tether_force= np.array([0,0,-100]),\n",
    "    kite_position=np.array([0, 0, 100]),\n",
    "    kite_velocity=np.array([0, 0, 0]),\n",
    "    kite_yaw=0,\n",
    "    tether_length=100,\n",
    ")\n",
    "import time\n",
    "start_time = time.time()\n",
    "for i in range(1000): # 1000 iterations at 0.01s: 10s\n",
    "    kite.propagate(kite_input, 0.01)\n",
    "\n",
    "print(time.time()-start_time)\n"
   ]
  }
 ],
 "metadata": {
  "kernelspec": {
   "display_name": "casadi",
   "language": "python",
   "name": "python3"
  },
  "language_info": {
   "codemirror_mode": {
    "name": "ipython",
    "version": 3
   },
   "file_extension": ".py",
   "mimetype": "text/x-python",
   "name": "python",
   "nbconvert_exporter": "python",
   "pygments_lexer": "ipython3",
   "version": "3.9.16"
  }
 },
 "nbformat": 4,
 "nbformat_minor": 2
}
